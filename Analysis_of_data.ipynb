{
 "cells": [
  {
   "cell_type": "code",
   "execution_count": 29,
   "id": "1e8efa35-1a18-4845-8396-cace878ef5c9",
   "metadata": {},
   "outputs": [],
   "source": [
    "import pandas as pd"
   ]
  },
  {
   "cell_type": "code",
   "execution_count": 31,
   "id": "546d1239-423c-4161-b557-0bf55ad6d59e",
   "metadata": {},
   "outputs": [],
   "source": [
    "car_sales=pd.read_csv(r\"C:\\Users\\saurabh.kumar\\Downloads\\mindful-ai-datasets-main\\mindful-ai-datasets-main\\used-cars-data\\Car_sales_transactions.csv\")"
   ]
  },
  {
   "cell_type": "code",
   "execution_count": 33,
   "id": "025c874b-74ec-493e-8a9d-c8a76581926f",
   "metadata": {},
   "outputs": [
    {
     "data": {
      "text/html": [
       "<div>\n",
       "<style scoped>\n",
       "    .dataframe tbody tr th:only-of-type {\n",
       "        vertical-align: middle;\n",
       "    }\n",
       "\n",
       "    .dataframe tbody tr th {\n",
       "        vertical-align: top;\n",
       "    }\n",
       "\n",
       "    .dataframe thead th {\n",
       "        text-align: right;\n",
       "    }\n",
       "</style>\n",
       "<table border=\"1\" class=\"dataframe\">\n",
       "  <thead>\n",
       "    <tr style=\"text-align: right;\">\n",
       "      <th></th>\n",
       "      <th>Sales_ID</th>\n",
       "      <th>Name</th>\n",
       "      <th>Year</th>\n",
       "      <th>Selling_Price</th>\n",
       "      <th>km_Driven</th>\n",
       "      <th>City_Code</th>\n",
       "      <th>State_Code</th>\n",
       "      <th>Postal_Code</th>\n",
       "      <th>Fuel</th>\n",
       "      <th>Seller_Type</th>\n",
       "      <th>Transmission</th>\n",
       "      <th>Owner</th>\n",
       "      <th>Mileage</th>\n",
       "      <th>Engine</th>\n",
       "      <th>Max_Power</th>\n",
       "      <th>Seats</th>\n",
       "    </tr>\n",
       "  </thead>\n",
       "  <tbody>\n",
       "    <tr>\n",
       "      <th>0</th>\n",
       "      <td>1</td>\n",
       "      <td>Maruti Swift Dzire VDI</td>\n",
       "      <td>2014</td>\n",
       "      <td>450000</td>\n",
       "      <td>145500</td>\n",
       "      <td>CT01</td>\n",
       "      <td>ST15</td>\n",
       "      <td>400001</td>\n",
       "      <td>Diesel</td>\n",
       "      <td>Individual</td>\n",
       "      <td>Manual</td>\n",
       "      <td>First Owner</td>\n",
       "      <td>23.4 kmpl</td>\n",
       "      <td>1248 CC</td>\n",
       "      <td>74 bhp</td>\n",
       "      <td>5</td>\n",
       "    </tr>\n",
       "    <tr>\n",
       "      <th>1</th>\n",
       "      <td>2</td>\n",
       "      <td>Skoda Rapid 1.5 TDI Ambition</td>\n",
       "      <td>2014</td>\n",
       "      <td>370000</td>\n",
       "      <td>120000</td>\n",
       "      <td>CT28</td>\n",
       "      <td>ST11</td>\n",
       "      <td>834001</td>\n",
       "      <td>Diesel</td>\n",
       "      <td>Individual</td>\n",
       "      <td>Manual</td>\n",
       "      <td>Second Owner</td>\n",
       "      <td>21.14 kmpl</td>\n",
       "      <td>1498 CC</td>\n",
       "      <td>103.52 bhp</td>\n",
       "      <td>5</td>\n",
       "    </tr>\n",
       "    <tr>\n",
       "      <th>2</th>\n",
       "      <td>3</td>\n",
       "      <td>Honda City 2017-2020 EXi</td>\n",
       "      <td>2006</td>\n",
       "      <td>158000</td>\n",
       "      <td>140000</td>\n",
       "      <td>CT12</td>\n",
       "      <td>ST28</td>\n",
       "      <td>201301</td>\n",
       "      <td>Petrol</td>\n",
       "      <td>Individual</td>\n",
       "      <td>Manual</td>\n",
       "      <td>Third Owner</td>\n",
       "      <td>17.7 kmpl</td>\n",
       "      <td>1497 CC</td>\n",
       "      <td>78 bhp</td>\n",
       "      <td>5</td>\n",
       "    </tr>\n",
       "    <tr>\n",
       "      <th>3</th>\n",
       "      <td>4</td>\n",
       "      <td>Hyundai i20 Sportz Diesel</td>\n",
       "      <td>2010</td>\n",
       "      <td>225000</td>\n",
       "      <td>127000</td>\n",
       "      <td>CT21</td>\n",
       "      <td>ST27</td>\n",
       "      <td>248001</td>\n",
       "      <td>Diesel</td>\n",
       "      <td>Individual</td>\n",
       "      <td>Manual</td>\n",
       "      <td>First Owner</td>\n",
       "      <td>23.0 kmpl</td>\n",
       "      <td>1396 CC</td>\n",
       "      <td>90 bhp</td>\n",
       "      <td>5</td>\n",
       "    </tr>\n",
       "    <tr>\n",
       "      <th>4</th>\n",
       "      <td>5</td>\n",
       "      <td>Maruti Swift VXI BSIII</td>\n",
       "      <td>2007</td>\n",
       "      <td>130000</td>\n",
       "      <td>120000</td>\n",
       "      <td>CT03</td>\n",
       "      <td>ST24</td>\n",
       "      <td>600020</td>\n",
       "      <td>Petrol</td>\n",
       "      <td>Individual</td>\n",
       "      <td>Manual</td>\n",
       "      <td>First Owner</td>\n",
       "      <td>16.1 kmpl</td>\n",
       "      <td>1298 CC</td>\n",
       "      <td>88.2 bhp</td>\n",
       "      <td>5</td>\n",
       "    </tr>\n",
       "    <tr>\n",
       "      <th>...</th>\n",
       "      <td>...</td>\n",
       "      <td>...</td>\n",
       "      <td>...</td>\n",
       "      <td>...</td>\n",
       "      <td>...</td>\n",
       "      <td>...</td>\n",
       "      <td>...</td>\n",
       "      <td>...</td>\n",
       "      <td>...</td>\n",
       "      <td>...</td>\n",
       "      <td>...</td>\n",
       "      <td>...</td>\n",
       "      <td>...</td>\n",
       "      <td>...</td>\n",
       "      <td>...</td>\n",
       "      <td>...</td>\n",
       "    </tr>\n",
       "    <tr>\n",
       "      <th>7901</th>\n",
       "      <td>8124</td>\n",
       "      <td>Hyundai i20 Magna</td>\n",
       "      <td>2013</td>\n",
       "      <td>320000</td>\n",
       "      <td>110000</td>\n",
       "      <td>CT22</td>\n",
       "      <td>ST14</td>\n",
       "      <td>452010</td>\n",
       "      <td>Petrol</td>\n",
       "      <td>Individual</td>\n",
       "      <td>Manual</td>\n",
       "      <td>First Owner</td>\n",
       "      <td>18.5 kmpl</td>\n",
       "      <td>1197 CC</td>\n",
       "      <td>82.85 bhp</td>\n",
       "      <td>5</td>\n",
       "    </tr>\n",
       "    <tr>\n",
       "      <th>7902</th>\n",
       "      <td>8125</td>\n",
       "      <td>Hyundai Verna CRDi SX</td>\n",
       "      <td>2007</td>\n",
       "      <td>135000</td>\n",
       "      <td>119000</td>\n",
       "      <td>CT21</td>\n",
       "      <td>ST27</td>\n",
       "      <td>248001</td>\n",
       "      <td>Diesel</td>\n",
       "      <td>Individual</td>\n",
       "      <td>Manual</td>\n",
       "      <td>Fourth &amp; Above Owner</td>\n",
       "      <td>16.8 kmpl</td>\n",
       "      <td>1493 CC</td>\n",
       "      <td>110 bhp</td>\n",
       "      <td>5</td>\n",
       "    </tr>\n",
       "    <tr>\n",
       "      <th>7903</th>\n",
       "      <td>8126</td>\n",
       "      <td>Maruti Swift Dzire ZDi</td>\n",
       "      <td>2009</td>\n",
       "      <td>382000</td>\n",
       "      <td>120000</td>\n",
       "      <td>CT08</td>\n",
       "      <td>ST29</td>\n",
       "      <td>700005</td>\n",
       "      <td>Diesel</td>\n",
       "      <td>Individual</td>\n",
       "      <td>Manual</td>\n",
       "      <td>First Owner</td>\n",
       "      <td>19.3 kmpl</td>\n",
       "      <td>1248 CC</td>\n",
       "      <td>73.9 bhp</td>\n",
       "      <td>5</td>\n",
       "    </tr>\n",
       "    <tr>\n",
       "      <th>7904</th>\n",
       "      <td>8127</td>\n",
       "      <td>Tata Indigo CR4</td>\n",
       "      <td>2013</td>\n",
       "      <td>290000</td>\n",
       "      <td>25000</td>\n",
       "      <td>CT29</td>\n",
       "      <td>ST24</td>\n",
       "      <td>632001</td>\n",
       "      <td>Diesel</td>\n",
       "      <td>Individual</td>\n",
       "      <td>Manual</td>\n",
       "      <td>First Owner</td>\n",
       "      <td>23.57 kmpl</td>\n",
       "      <td>1396 CC</td>\n",
       "      <td>70 bhp</td>\n",
       "      <td>5</td>\n",
       "    </tr>\n",
       "    <tr>\n",
       "      <th>7905</th>\n",
       "      <td>8128</td>\n",
       "      <td>Tata Indigo CR4</td>\n",
       "      <td>2013</td>\n",
       "      <td>290000</td>\n",
       "      <td>25000</td>\n",
       "      <td>CT21</td>\n",
       "      <td>ST27</td>\n",
       "      <td>248001</td>\n",
       "      <td>Diesel</td>\n",
       "      <td>Individual</td>\n",
       "      <td>Manual</td>\n",
       "      <td>First Owner</td>\n",
       "      <td>23.57 kmpl</td>\n",
       "      <td>1396 CC</td>\n",
       "      <td>70 bhp</td>\n",
       "      <td>5</td>\n",
       "    </tr>\n",
       "  </tbody>\n",
       "</table>\n",
       "<p>7906 rows × 16 columns</p>\n",
       "</div>"
      ],
      "text/plain": [
       "      Sales_ID                          Name  Year  Selling_Price  km_Driven  \\\n",
       "0            1        Maruti Swift Dzire VDI  2014         450000     145500   \n",
       "1            2  Skoda Rapid 1.5 TDI Ambition  2014         370000     120000   \n",
       "2            3      Honda City 2017-2020 EXi  2006         158000     140000   \n",
       "3            4     Hyundai i20 Sportz Diesel  2010         225000     127000   \n",
       "4            5        Maruti Swift VXI BSIII  2007         130000     120000   \n",
       "...        ...                           ...   ...            ...        ...   \n",
       "7901      8124             Hyundai i20 Magna  2013         320000     110000   \n",
       "7902      8125         Hyundai Verna CRDi SX  2007         135000     119000   \n",
       "7903      8126        Maruti Swift Dzire ZDi  2009         382000     120000   \n",
       "7904      8127               Tata Indigo CR4  2013         290000      25000   \n",
       "7905      8128               Tata Indigo CR4  2013         290000      25000   \n",
       "\n",
       "     City_Code State_Code  Postal_Code    Fuel Seller_Type Transmission  \\\n",
       "0         CT01       ST15       400001  Diesel  Individual       Manual   \n",
       "1         CT28       ST11       834001  Diesel  Individual       Manual   \n",
       "2         CT12       ST28       201301  Petrol  Individual       Manual   \n",
       "3         CT21       ST27       248001  Diesel  Individual       Manual   \n",
       "4         CT03       ST24       600020  Petrol  Individual       Manual   \n",
       "...        ...        ...          ...     ...         ...          ...   \n",
       "7901      CT22       ST14       452010  Petrol  Individual       Manual   \n",
       "7902      CT21       ST27       248001  Diesel  Individual       Manual   \n",
       "7903      CT08       ST29       700005  Diesel  Individual       Manual   \n",
       "7904      CT29       ST24       632001  Diesel  Individual       Manual   \n",
       "7905      CT21       ST27       248001  Diesel  Individual       Manual   \n",
       "\n",
       "                     Owner     Mileage   Engine   Max_Power  Seats  \n",
       "0              First Owner   23.4 kmpl  1248 CC      74 bhp      5  \n",
       "1             Second Owner  21.14 kmpl  1498 CC  103.52 bhp      5  \n",
       "2              Third Owner   17.7 kmpl  1497 CC      78 bhp      5  \n",
       "3              First Owner   23.0 kmpl  1396 CC      90 bhp      5  \n",
       "4              First Owner   16.1 kmpl  1298 CC    88.2 bhp      5  \n",
       "...                    ...         ...      ...         ...    ...  \n",
       "7901           First Owner   18.5 kmpl  1197 CC   82.85 bhp      5  \n",
       "7902  Fourth & Above Owner   16.8 kmpl  1493 CC     110 bhp      5  \n",
       "7903           First Owner   19.3 kmpl  1248 CC    73.9 bhp      5  \n",
       "7904           First Owner  23.57 kmpl  1396 CC      70 bhp      5  \n",
       "7905           First Owner  23.57 kmpl  1396 CC      70 bhp      5  \n",
       "\n",
       "[7906 rows x 16 columns]"
      ]
     },
     "execution_count": 33,
     "metadata": {},
     "output_type": "execute_result"
    }
   ],
   "source": [
    "car_sales"
   ]
  },
  {
   "cell_type": "code",
   "execution_count": null,
   "id": "1283ec18-3345-4ef6-ac0a-227e63a9caf9",
   "metadata": {},
   "outputs": [],
   "source": []
  },
  {
   "cell_type": "code",
   "execution_count": 37,
   "id": "bffb38a9-7152-4441-bb55-af0d4272bf3b",
   "metadata": {},
   "outputs": [
    {
     "data": {
      "text/plain": [
       "Sales_ID         0\n",
       "Name             0\n",
       "Year             0\n",
       "Selling_Price    0\n",
       "km_Driven        0\n",
       "City_Code        0\n",
       "State_Code       0\n",
       "Postal_Code      0\n",
       "Fuel             0\n",
       "Seller_Type      0\n",
       "Transmission     0\n",
       "Owner            0\n",
       "Mileage          0\n",
       "Engine           0\n",
       "Max_Power        0\n",
       "Seats            0\n",
       "dtype: int64"
      ]
     },
     "execution_count": 37,
     "metadata": {},
     "output_type": "execute_result"
    }
   ],
   "source": [
    "car_sales.isnull().sum()"
   ]
  },
  {
   "cell_type": "code",
   "execution_count": 39,
   "id": "d4d326c4-2dd3-4dfb-8153-69120ae4942a",
   "metadata": {},
   "outputs": [
    {
     "data": {
      "text/plain": [
       "0"
      ]
     },
     "execution_count": 39,
     "metadata": {},
     "output_type": "execute_result"
    }
   ],
   "source": [
    "car_sales.duplicated().sum()\n"
   ]
  },
  {
   "cell_type": "code",
   "execution_count": 41,
   "id": "e8c668c4-9fe7-4a6e-be08-1145967cb72f",
   "metadata": {},
   "outputs": [],
   "source": [
    "carsales_cleaned=car_sales.drop_duplicates()"
   ]
  },
  {
   "cell_type": "code",
   "execution_count": 43,
   "id": "f2176f32-53c2-4ab5-ae67-8ab7567c5767",
   "metadata": {},
   "outputs": [],
   "source": [
    "carsales_cleaned=carsales_cleaned.dropna()"
   ]
  },
  {
   "cell_type": "code",
   "execution_count": 45,
   "id": "60579f2c-3adc-42df-9f46-34ef17a30d5c",
   "metadata": {},
   "outputs": [
    {
     "data": {
      "text/html": [
       "<div>\n",
       "<style scoped>\n",
       "    .dataframe tbody tr th:only-of-type {\n",
       "        vertical-align: middle;\n",
       "    }\n",
       "\n",
       "    .dataframe tbody tr th {\n",
       "        vertical-align: top;\n",
       "    }\n",
       "\n",
       "    .dataframe thead th {\n",
       "        text-align: right;\n",
       "    }\n",
       "</style>\n",
       "<table border=\"1\" class=\"dataframe\">\n",
       "  <thead>\n",
       "    <tr style=\"text-align: right;\">\n",
       "      <th></th>\n",
       "      <th>Sales_ID</th>\n",
       "      <th>Name</th>\n",
       "      <th>Year</th>\n",
       "      <th>Selling_Price</th>\n",
       "      <th>km_Driven</th>\n",
       "      <th>City_Code</th>\n",
       "      <th>State_Code</th>\n",
       "      <th>Postal_Code</th>\n",
       "      <th>Fuel</th>\n",
       "      <th>Seller_Type</th>\n",
       "      <th>Transmission</th>\n",
       "      <th>Owner</th>\n",
       "      <th>Mileage</th>\n",
       "      <th>Engine</th>\n",
       "      <th>Max_Power</th>\n",
       "      <th>Seats</th>\n",
       "    </tr>\n",
       "  </thead>\n",
       "  <tbody>\n",
       "    <tr>\n",
       "      <th>0</th>\n",
       "      <td>1</td>\n",
       "      <td>Maruti Swift Dzire VDI</td>\n",
       "      <td>2014</td>\n",
       "      <td>450000</td>\n",
       "      <td>145500</td>\n",
       "      <td>CT01</td>\n",
       "      <td>ST15</td>\n",
       "      <td>400001</td>\n",
       "      <td>Diesel</td>\n",
       "      <td>Individual</td>\n",
       "      <td>Manual</td>\n",
       "      <td>First Owner</td>\n",
       "      <td>23.4 kmpl</td>\n",
       "      <td>1248 CC</td>\n",
       "      <td>74 bhp</td>\n",
       "      <td>5</td>\n",
       "    </tr>\n",
       "    <tr>\n",
       "      <th>1</th>\n",
       "      <td>2</td>\n",
       "      <td>Skoda Rapid 1.5 TDI Ambition</td>\n",
       "      <td>2014</td>\n",
       "      <td>370000</td>\n",
       "      <td>120000</td>\n",
       "      <td>CT28</td>\n",
       "      <td>ST11</td>\n",
       "      <td>834001</td>\n",
       "      <td>Diesel</td>\n",
       "      <td>Individual</td>\n",
       "      <td>Manual</td>\n",
       "      <td>Second Owner</td>\n",
       "      <td>21.14 kmpl</td>\n",
       "      <td>1498 CC</td>\n",
       "      <td>103.52 bhp</td>\n",
       "      <td>5</td>\n",
       "    </tr>\n",
       "    <tr>\n",
       "      <th>2</th>\n",
       "      <td>3</td>\n",
       "      <td>Honda City 2017-2020 EXi</td>\n",
       "      <td>2006</td>\n",
       "      <td>158000</td>\n",
       "      <td>140000</td>\n",
       "      <td>CT12</td>\n",
       "      <td>ST28</td>\n",
       "      <td>201301</td>\n",
       "      <td>Petrol</td>\n",
       "      <td>Individual</td>\n",
       "      <td>Manual</td>\n",
       "      <td>Third Owner</td>\n",
       "      <td>17.7 kmpl</td>\n",
       "      <td>1497 CC</td>\n",
       "      <td>78 bhp</td>\n",
       "      <td>5</td>\n",
       "    </tr>\n",
       "    <tr>\n",
       "      <th>3</th>\n",
       "      <td>4</td>\n",
       "      <td>Hyundai i20 Sportz Diesel</td>\n",
       "      <td>2010</td>\n",
       "      <td>225000</td>\n",
       "      <td>127000</td>\n",
       "      <td>CT21</td>\n",
       "      <td>ST27</td>\n",
       "      <td>248001</td>\n",
       "      <td>Diesel</td>\n",
       "      <td>Individual</td>\n",
       "      <td>Manual</td>\n",
       "      <td>First Owner</td>\n",
       "      <td>23.0 kmpl</td>\n",
       "      <td>1396 CC</td>\n",
       "      <td>90 bhp</td>\n",
       "      <td>5</td>\n",
       "    </tr>\n",
       "    <tr>\n",
       "      <th>4</th>\n",
       "      <td>5</td>\n",
       "      <td>Maruti Swift VXI BSIII</td>\n",
       "      <td>2007</td>\n",
       "      <td>130000</td>\n",
       "      <td>120000</td>\n",
       "      <td>CT03</td>\n",
       "      <td>ST24</td>\n",
       "      <td>600020</td>\n",
       "      <td>Petrol</td>\n",
       "      <td>Individual</td>\n",
       "      <td>Manual</td>\n",
       "      <td>First Owner</td>\n",
       "      <td>16.1 kmpl</td>\n",
       "      <td>1298 CC</td>\n",
       "      <td>88.2 bhp</td>\n",
       "      <td>5</td>\n",
       "    </tr>\n",
       "    <tr>\n",
       "      <th>...</th>\n",
       "      <td>...</td>\n",
       "      <td>...</td>\n",
       "      <td>...</td>\n",
       "      <td>...</td>\n",
       "      <td>...</td>\n",
       "      <td>...</td>\n",
       "      <td>...</td>\n",
       "      <td>...</td>\n",
       "      <td>...</td>\n",
       "      <td>...</td>\n",
       "      <td>...</td>\n",
       "      <td>...</td>\n",
       "      <td>...</td>\n",
       "      <td>...</td>\n",
       "      <td>...</td>\n",
       "      <td>...</td>\n",
       "    </tr>\n",
       "    <tr>\n",
       "      <th>7901</th>\n",
       "      <td>8124</td>\n",
       "      <td>Hyundai i20 Magna</td>\n",
       "      <td>2013</td>\n",
       "      <td>320000</td>\n",
       "      <td>110000</td>\n",
       "      <td>CT22</td>\n",
       "      <td>ST14</td>\n",
       "      <td>452010</td>\n",
       "      <td>Petrol</td>\n",
       "      <td>Individual</td>\n",
       "      <td>Manual</td>\n",
       "      <td>First Owner</td>\n",
       "      <td>18.5 kmpl</td>\n",
       "      <td>1197 CC</td>\n",
       "      <td>82.85 bhp</td>\n",
       "      <td>5</td>\n",
       "    </tr>\n",
       "    <tr>\n",
       "      <th>7902</th>\n",
       "      <td>8125</td>\n",
       "      <td>Hyundai Verna CRDi SX</td>\n",
       "      <td>2007</td>\n",
       "      <td>135000</td>\n",
       "      <td>119000</td>\n",
       "      <td>CT21</td>\n",
       "      <td>ST27</td>\n",
       "      <td>248001</td>\n",
       "      <td>Diesel</td>\n",
       "      <td>Individual</td>\n",
       "      <td>Manual</td>\n",
       "      <td>Fourth &amp; Above Owner</td>\n",
       "      <td>16.8 kmpl</td>\n",
       "      <td>1493 CC</td>\n",
       "      <td>110 bhp</td>\n",
       "      <td>5</td>\n",
       "    </tr>\n",
       "    <tr>\n",
       "      <th>7903</th>\n",
       "      <td>8126</td>\n",
       "      <td>Maruti Swift Dzire ZDi</td>\n",
       "      <td>2009</td>\n",
       "      <td>382000</td>\n",
       "      <td>120000</td>\n",
       "      <td>CT08</td>\n",
       "      <td>ST29</td>\n",
       "      <td>700005</td>\n",
       "      <td>Diesel</td>\n",
       "      <td>Individual</td>\n",
       "      <td>Manual</td>\n",
       "      <td>First Owner</td>\n",
       "      <td>19.3 kmpl</td>\n",
       "      <td>1248 CC</td>\n",
       "      <td>73.9 bhp</td>\n",
       "      <td>5</td>\n",
       "    </tr>\n",
       "    <tr>\n",
       "      <th>7904</th>\n",
       "      <td>8127</td>\n",
       "      <td>Tata Indigo CR4</td>\n",
       "      <td>2013</td>\n",
       "      <td>290000</td>\n",
       "      <td>25000</td>\n",
       "      <td>CT29</td>\n",
       "      <td>ST24</td>\n",
       "      <td>632001</td>\n",
       "      <td>Diesel</td>\n",
       "      <td>Individual</td>\n",
       "      <td>Manual</td>\n",
       "      <td>First Owner</td>\n",
       "      <td>23.57 kmpl</td>\n",
       "      <td>1396 CC</td>\n",
       "      <td>70 bhp</td>\n",
       "      <td>5</td>\n",
       "    </tr>\n",
       "    <tr>\n",
       "      <th>7905</th>\n",
       "      <td>8128</td>\n",
       "      <td>Tata Indigo CR4</td>\n",
       "      <td>2013</td>\n",
       "      <td>290000</td>\n",
       "      <td>25000</td>\n",
       "      <td>CT21</td>\n",
       "      <td>ST27</td>\n",
       "      <td>248001</td>\n",
       "      <td>Diesel</td>\n",
       "      <td>Individual</td>\n",
       "      <td>Manual</td>\n",
       "      <td>First Owner</td>\n",
       "      <td>23.57 kmpl</td>\n",
       "      <td>1396 CC</td>\n",
       "      <td>70 bhp</td>\n",
       "      <td>5</td>\n",
       "    </tr>\n",
       "  </tbody>\n",
       "</table>\n",
       "<p>7906 rows × 16 columns</p>\n",
       "</div>"
      ],
      "text/plain": [
       "      Sales_ID                          Name  Year  Selling_Price  km_Driven  \\\n",
       "0            1        Maruti Swift Dzire VDI  2014         450000     145500   \n",
       "1            2  Skoda Rapid 1.5 TDI Ambition  2014         370000     120000   \n",
       "2            3      Honda City 2017-2020 EXi  2006         158000     140000   \n",
       "3            4     Hyundai i20 Sportz Diesel  2010         225000     127000   \n",
       "4            5        Maruti Swift VXI BSIII  2007         130000     120000   \n",
       "...        ...                           ...   ...            ...        ...   \n",
       "7901      8124             Hyundai i20 Magna  2013         320000     110000   \n",
       "7902      8125         Hyundai Verna CRDi SX  2007         135000     119000   \n",
       "7903      8126        Maruti Swift Dzire ZDi  2009         382000     120000   \n",
       "7904      8127               Tata Indigo CR4  2013         290000      25000   \n",
       "7905      8128               Tata Indigo CR4  2013         290000      25000   \n",
       "\n",
       "     City_Code State_Code  Postal_Code    Fuel Seller_Type Transmission  \\\n",
       "0         CT01       ST15       400001  Diesel  Individual       Manual   \n",
       "1         CT28       ST11       834001  Diesel  Individual       Manual   \n",
       "2         CT12       ST28       201301  Petrol  Individual       Manual   \n",
       "3         CT21       ST27       248001  Diesel  Individual       Manual   \n",
       "4         CT03       ST24       600020  Petrol  Individual       Manual   \n",
       "...        ...        ...          ...     ...         ...          ...   \n",
       "7901      CT22       ST14       452010  Petrol  Individual       Manual   \n",
       "7902      CT21       ST27       248001  Diesel  Individual       Manual   \n",
       "7903      CT08       ST29       700005  Diesel  Individual       Manual   \n",
       "7904      CT29       ST24       632001  Diesel  Individual       Manual   \n",
       "7905      CT21       ST27       248001  Diesel  Individual       Manual   \n",
       "\n",
       "                     Owner     Mileage   Engine   Max_Power  Seats  \n",
       "0              First Owner   23.4 kmpl  1248 CC      74 bhp      5  \n",
       "1             Second Owner  21.14 kmpl  1498 CC  103.52 bhp      5  \n",
       "2              Third Owner   17.7 kmpl  1497 CC      78 bhp      5  \n",
       "3              First Owner   23.0 kmpl  1396 CC      90 bhp      5  \n",
       "4              First Owner   16.1 kmpl  1298 CC    88.2 bhp      5  \n",
       "...                    ...         ...      ...         ...    ...  \n",
       "7901           First Owner   18.5 kmpl  1197 CC   82.85 bhp      5  \n",
       "7902  Fourth & Above Owner   16.8 kmpl  1493 CC     110 bhp      5  \n",
       "7903           First Owner   19.3 kmpl  1248 CC    73.9 bhp      5  \n",
       "7904           First Owner  23.57 kmpl  1396 CC      70 bhp      5  \n",
       "7905           First Owner  23.57 kmpl  1396 CC      70 bhp      5  \n",
       "\n",
       "[7906 rows x 16 columns]"
      ]
     },
     "execution_count": 45,
     "metadata": {},
     "output_type": "execute_result"
    }
   ],
   "source": [
    "carsales_cleaned"
   ]
  },
  {
   "cell_type": "code",
   "execution_count": 187,
   "id": "48fdc788-f245-4b3a-a5e5-5d082236c228",
   "metadata": {},
   "outputs": [
    {
     "name": "stderr",
     "output_type": "stream",
     "text": [
      "C:\\Users\\saurabh.kumar\\AppData\\Local\\anaconda3\\Lib\\site-packages\\seaborn\\_oldcore.py:1119: FutureWarning: use_inf_as_na option is deprecated and will be removed in a future version. Convert inf values to NaN before operating instead.\n",
      "  with pd.option_context('mode.use_inf_as_na', True):\n"
     ]
    },
    {
     "data": {
      "image/png": "[encoded data removed]",
      "text/plain": [
       "<Figure size 900x400 with 1 Axes>"
      ]
     },
     "metadata": {},
     "output_type": "display_data"
    }
   ],
   "source": [
    "import matplotlib.pyplot as plt\n",
    "import seaborn as sns\n",
    "\n",
    "plt.figure(figsize=(9, 4))\n",
    "sns.histplot(car_sales['Selling_Price'] , kde=True, bins=50)\n",
    "plt.title('Distribution of Selling Prices')\n",
    "plt.xlabel('Selling Price')\n",
    "plt.ylabel('Units of Car')\n",
    "plt.gca().ticklabel_format(style='plain', axis='x')\n",
    "plt.show()\n"
   ]
  },
  {
   "cell_type": "code",
   "execution_count": null,
   "id": "fb35c0b5-b8d3-4e56-9499-af2910bea6cd",
   "metadata": {},
   "outputs": [],
   "source": [
    "\n",
    "\n"
   ]
  },
  {
   "cell_type": "code",
   "execution_count": 29,
   "id": "58267309-2a1f-48b7-9c2c-bdfe409bc309",
   "metadata": {},
   "outputs": [
    {
     "data": {
      "image/png": "[encoded data removed]",
      "text/plain": [
       "<Figure size 700x400 with 1 Axes>"
      ]
     },
     "metadata": {},
     "output_type": "display_data"
    }
   ],
   "source": [
    "plt.figure(figsize=(7, 4))\n",
    "sns.boxplot(x='Fuel', y='Selling_Price', data=car_sales)\n",
    "plt.title('Selling Price by Fuel Type')\n",
    "plt.xlabel('Fuel Type')\n",
    "plt.ylabel('Selling Price')\n",
    "plt.show()\n"
   ]
  },
  {
   "cell_type": "markdown",
   "id": "52c89735-8103-4456-a11e-eda122add504",
   "metadata": {},
   "source": [
    "### sales status"
   ]
  },
  {
   "cell_type": "code",
   "execution_count": 118,
   "id": "e234215b-e401-438c-883d-ffdb2ca675e9",
   "metadata": {},
   "outputs": [],
   "source": [
    "sales_status=pd.read_csv(r\"C:\\Users\\saurabh.kumar\\Downloads\\mindful-ai-datasets-main\\mindful-ai-datasets-main\\used-cars-data\\Sales_Status.csv\")"
   ]
  },
  {
   "cell_type": "code",
   "execution_count": 120,
   "id": "7d436d04-0d86-4fff-87b5-4b537d4da77d",
   "metadata": {},
   "outputs": [
    {
     "data": {
      "text/html": [
       "<div>\n",
       "<style scoped>\n",
       "    .dataframe tbody tr th:only-of-type {\n",
       "        vertical-align: middle;\n",
       "    }\n",
       "\n",
       "    .dataframe tbody tr th {\n",
       "        vertical-align: top;\n",
       "    }\n",
       "\n",
       "    .dataframe thead th {\n",
       "        text-align: right;\n",
       "    }\n",
       "</style>\n",
       "<table border=\"1\" class=\"dataframe\">\n",
       "  <thead>\n",
       "    <tr style=\"text-align: right;\">\n",
       "      <th></th>\n",
       "      <th>Sales_ID</th>\n",
       "      <th>Sold</th>\n",
       "    </tr>\n",
       "  </thead>\n",
       "  <tbody>\n",
       "    <tr>\n",
       "      <th>0</th>\n",
       "      <td>1</td>\n",
       "      <td>Y</td>\n",
       "    </tr>\n",
       "    <tr>\n",
       "      <th>1</th>\n",
       "      <td>2</td>\n",
       "      <td>Y</td>\n",
       "    </tr>\n",
       "    <tr>\n",
       "      <th>2</th>\n",
       "      <td>3</td>\n",
       "      <td>Y</td>\n",
       "    </tr>\n",
       "    <tr>\n",
       "      <th>3</th>\n",
       "      <td>4</td>\n",
       "      <td>Y</td>\n",
       "    </tr>\n",
       "    <tr>\n",
       "      <th>4</th>\n",
       "      <td>5</td>\n",
       "      <td>Y</td>\n",
       "    </tr>\n",
       "    <tr>\n",
       "      <th>5</th>\n",
       "      <td>6</td>\n",
       "      <td>Y</td>\n",
       "    </tr>\n",
       "    <tr>\n",
       "      <th>6</th>\n",
       "      <td>7</td>\n",
       "      <td>Y</td>\n",
       "    </tr>\n",
       "    <tr>\n",
       "      <th>7</th>\n",
       "      <td>8</td>\n",
       "      <td>Y</td>\n",
       "    </tr>\n",
       "    <tr>\n",
       "      <th>8</th>\n",
       "      <td>9</td>\n",
       "      <td>Y</td>\n",
       "    </tr>\n",
       "    <tr>\n",
       "      <th>9</th>\n",
       "      <td>10</td>\n",
       "      <td>Y</td>\n",
       "    </tr>\n",
       "  </tbody>\n",
       "</table>\n",
       "</div>"
      ],
      "text/plain": [
       "   Sales_ID Sold\n",
       "0         1    Y\n",
       "1         2    Y\n",
       "2         3    Y\n",
       "3         4    Y\n",
       "4         5    Y\n",
       "5         6    Y\n",
       "6         7    Y\n",
       "7         8    Y\n",
       "8         9    Y\n",
       "9        10    Y"
      ]
     },
     "execution_count": 120,
     "metadata": {},
     "output_type": "execute_result"
    }
   ],
   "source": [
    "sales_status.head(10)"
   ]
  },
  {
   "cell_type": "code",
   "execution_count": null,
   "id": "52522ab0-9151-48b8-8e11-ad8a1ca5de60",
   "metadata": {},
   "outputs": [],
   "source": []
  },
  {
   "cell_type": "code",
   "execution_count": 123,
   "id": "20756e8d-16bd-4a85-8de0-7e5bdec66090",
   "metadata": {},
   "outputs": [
    {
     "data": {
      "text/plain": [
       "Sales_ID    0\n",
       "Sold        0\n",
       "dtype: int64"
      ]
     },
     "execution_count": 123,
     "metadata": {},
     "output_type": "execute_result"
    }
   ],
   "source": [
    "sales_status.isnull().sum()"
   ]
  },
  {
   "cell_type": "code",
   "execution_count": 125,
   "id": "57280a05-a181-4c99-93ab-49ec2f5ffc23",
   "metadata": {},
   "outputs": [
    {
     "data": {
      "text/plain": [
       "0"
      ]
     },
     "execution_count": 125,
     "metadata": {},
     "output_type": "execute_result"
    }
   ],
   "source": [
    "sales_status.duplicated().sum()"
   ]
  },
  {
   "cell_type": "markdown",
   "id": "c7d29a00-1106-411c-a2b3-ec62fae832e7",
   "metadata": {},
   "source": [
    "### city master"
   ]
  },
  {
   "cell_type": "code",
   "execution_count": 128,
   "id": "18ecd4bc-aa79-4520-bc32-61f98bb8429a",
   "metadata": {},
   "outputs": [],
   "source": [
    "city_master=pd.read_excel(r\"C:\\Users\\saurabh.kumar\\Downloads\\mindful-ai-datasets-main\\mindful-ai-datasets-main\\used-cars-data\\City_Master.xlsx\")"
   ]
  },
  {
   "cell_type": "code",
   "execution_count": 129,
   "id": "6bedf81e-4025-4ff5-859a-d39a40317edd",
   "metadata": {},
   "outputs": [
    {
     "data": {
      "text/html": [
       "<div>\n",
       "<style scoped>\n",
       "    .dataframe tbody tr th:only-of-type {\n",
       "        vertical-align: middle;\n",
       "    }\n",
       "\n",
       "    .dataframe tbody tr th {\n",
       "        vertical-align: top;\n",
       "    }\n",
       "\n",
       "    .dataframe thead th {\n",
       "        text-align: right;\n",
       "    }\n",
       "</style>\n",
       "<table border=\"1\" class=\"dataframe\">\n",
       "  <thead>\n",
       "    <tr style=\"text-align: right;\">\n",
       "      <th></th>\n",
       "      <th>City_Code</th>\n",
       "      <th>City_Name</th>\n",
       "      <th>State_Code</th>\n",
       "    </tr>\n",
       "  </thead>\n",
       "  <tbody>\n",
       "    <tr>\n",
       "      <th>0</th>\n",
       "      <td>CT01</td>\n",
       "      <td>Mumbai</td>\n",
       "      <td>ST15</td>\n",
       "    </tr>\n",
       "    <tr>\n",
       "      <th>1</th>\n",
       "      <td>CT02</td>\n",
       "      <td>Pune</td>\n",
       "      <td>ST15</td>\n",
       "    </tr>\n",
       "    <tr>\n",
       "      <th>2</th>\n",
       "      <td>CT03</td>\n",
       "      <td>Chennai</td>\n",
       "      <td>ST24</td>\n",
       "    </tr>\n",
       "    <tr>\n",
       "      <th>3</th>\n",
       "      <td>CT04</td>\n",
       "      <td>Coimbatore</td>\n",
       "      <td>ST24</td>\n",
       "    </tr>\n",
       "    <tr>\n",
       "      <th>4</th>\n",
       "      <td>CT05</td>\n",
       "      <td>Hyderabad</td>\n",
       "      <td>ST25</td>\n",
       "    </tr>\n",
       "  </tbody>\n",
       "</table>\n",
       "</div>"
      ],
      "text/plain": [
       "  City_Code   City_Name State_Code\n",
       "0      CT01      Mumbai       ST15\n",
       "1      CT02        Pune       ST15\n",
       "2      CT03     Chennai       ST24\n",
       "3      CT04  Coimbatore       ST24\n",
       "4      CT05   Hyderabad       ST25"
      ]
     },
     "execution_count": 129,
     "metadata": {},
     "output_type": "execute_result"
    }
   ],
   "source": [
    "city_master.head()"
   ]
  },
  {
   "cell_type": "code",
   "execution_count": 130,
   "id": "b9834527-f6ed-4678-be12-15baaf56acac",
   "metadata": {},
   "outputs": [
    {
     "data": {
      "text/html": [
       "<div>\n",
       "<style scoped>\n",
       "    .dataframe tbody tr th:only-of-type {\n",
       "        vertical-align: middle;\n",
       "    }\n",
       "\n",
       "    .dataframe tbody tr th {\n",
       "        vertical-align: top;\n",
       "    }\n",
       "\n",
       "    .dataframe thead th {\n",
       "        text-align: right;\n",
       "    }\n",
       "</style>\n",
       "<table border=\"1\" class=\"dataframe\">\n",
       "  <thead>\n",
       "    <tr style=\"text-align: right;\">\n",
       "      <th></th>\n",
       "      <th>City_Code</th>\n",
       "      <th>City_Name</th>\n",
       "      <th>State_Code</th>\n",
       "    </tr>\n",
       "  </thead>\n",
       "  <tbody>\n",
       "    <tr>\n",
       "      <th>count</th>\n",
       "      <td>29</td>\n",
       "      <td>29</td>\n",
       "      <td>29</td>\n",
       "    </tr>\n",
       "    <tr>\n",
       "      <th>unique</th>\n",
       "      <td>29</td>\n",
       "      <td>29</td>\n",
       "      <td>18</td>\n",
       "    </tr>\n",
       "    <tr>\n",
       "      <th>top</th>\n",
       "      <td>CT01</td>\n",
       "      <td>Mumbai</td>\n",
       "      <td>ST15</td>\n",
       "    </tr>\n",
       "    <tr>\n",
       "      <th>freq</th>\n",
       "      <td>1</td>\n",
       "      <td>1</td>\n",
       "      <td>3</td>\n",
       "    </tr>\n",
       "  </tbody>\n",
       "</table>\n",
       "</div>"
      ],
      "text/plain": [
       "       City_Code City_Name State_Code\n",
       "count         29        29         29\n",
       "unique        29        29         18\n",
       "top         CT01    Mumbai       ST15\n",
       "freq           1         1          3"
      ]
     },
     "execution_count": 130,
     "metadata": {},
     "output_type": "execute_result"
    }
   ],
   "source": [
    "city_master.describe()"
   ]
  },
  {
   "cell_type": "code",
   "execution_count": 132,
   "id": "05eaf757-157f-433d-9e33-ab71c2bb271d",
   "metadata": {},
   "outputs": [
    {
     "data": {
      "text/plain": [
       "City_Code     0\n",
       "City_Name     0\n",
       "State_Code    0\n",
       "dtype: int64"
      ]
     },
     "execution_count": 132,
     "metadata": {},
     "output_type": "execute_result"
    }
   ],
   "source": [
    "city_master.isnull().sum()"
   ]
  },
  {
   "cell_type": "code",
   "execution_count": 136,
   "id": "8dbd5db5-233c-4e10-8012-dd03722a4b34",
   "metadata": {},
   "outputs": [
    {
     "data": {
      "text/plain": [
       "0"
      ]
     },
     "execution_count": 136,
     "metadata": {},
     "output_type": "execute_result"
    }
   ],
   "source": [
    "city_master.duplicated().sum()"
   ]
  },
  {
   "cell_type": "markdown",
   "id": "e3b48fde-e654-4ecf-b801-7e8c511df3b0",
   "metadata": {},
   "source": [
    "### postalcode"
   ]
  },
  {
   "cell_type": "code",
   "execution_count": 139,
   "id": "76e3f451-30bc-48e0-b97a-566208aefb5b",
   "metadata": {},
   "outputs": [],
   "source": [
    "postal_code=pd.read_excel(r\"C:\\Users\\saurabh.kumar\\Downloads\\mindful-ai-datasets-main\\mindful-ai-datasets-main\\used-cars-data\\Postal_Code_Master.xlsx\")"
   ]
  },
  {
   "cell_type": "code",
   "execution_count": 141,
   "id": "cb0f7455-7289-46c2-b3f3-ac5be2741de7",
   "metadata": {},
   "outputs": [
    {
     "data": {
      "text/html": [
       "<div>\n",
       "<style scoped>\n",
       "    .dataframe tbody tr th:only-of-type {\n",
       "        vertical-align: middle;\n",
       "    }\n",
       "\n",
       "    .dataframe tbody tr th {\n",
       "        vertical-align: top;\n",
       "    }\n",
       "\n",
       "    .dataframe thead th {\n",
       "        text-align: right;\n",
       "    }\n",
       "</style>\n",
       "<table border=\"1\" class=\"dataframe\">\n",
       "  <thead>\n",
       "    <tr style=\"text-align: right;\">\n",
       "      <th></th>\n",
       "      <th>Postal_Code</th>\n",
       "      <th>City_Code</th>\n",
       "    </tr>\n",
       "  </thead>\n",
       "  <tbody>\n",
       "    <tr>\n",
       "      <th>0</th>\n",
       "      <td>400001</td>\n",
       "      <td>CT01</td>\n",
       "    </tr>\n",
       "    <tr>\n",
       "      <th>1</th>\n",
       "      <td>400053</td>\n",
       "      <td>CT01</td>\n",
       "    </tr>\n",
       "    <tr>\n",
       "      <th>2</th>\n",
       "      <td>400035</td>\n",
       "      <td>CT01</td>\n",
       "    </tr>\n",
       "    <tr>\n",
       "      <th>3</th>\n",
       "      <td>400050</td>\n",
       "      <td>CT01</td>\n",
       "    </tr>\n",
       "    <tr>\n",
       "      <th>4</th>\n",
       "      <td>411002</td>\n",
       "      <td>CT02</td>\n",
       "    </tr>\n",
       "  </tbody>\n",
       "</table>\n",
       "</div>"
      ],
      "text/plain": [
       "   Postal_Code City_Code\n",
       "0       400001      CT01\n",
       "1       400053      CT01\n",
       "2       400035      CT01\n",
       "3       400050      CT01\n",
       "4       411002      CT02"
      ]
     },
     "execution_count": 141,
     "metadata": {},
     "output_type": "execute_result"
    }
   ],
   "source": [
    "postal_code.head()"
   ]
  },
  {
   "cell_type": "code",
   "execution_count": 143,
   "id": "5e947602-c92c-4e66-a3a6-12e602fd0f87",
   "metadata": {},
   "outputs": [
    {
     "data": {
      "text/html": [
       "<div>\n",
       "<style scoped>\n",
       "    .dataframe tbody tr th:only-of-type {\n",
       "        vertical-align: middle;\n",
       "    }\n",
       "\n",
       "    .dataframe tbody tr th {\n",
       "        vertical-align: top;\n",
       "    }\n",
       "\n",
       "    .dataframe thead th {\n",
       "        text-align: right;\n",
       "    }\n",
       "</style>\n",
       "<table border=\"1\" class=\"dataframe\">\n",
       "  <thead>\n",
       "    <tr style=\"text-align: right;\">\n",
       "      <th></th>\n",
       "      <th>Postal_Code</th>\n",
       "    </tr>\n",
       "  </thead>\n",
       "  <tbody>\n",
       "    <tr>\n",
       "      <th>count</th>\n",
       "      <td>61.000000</td>\n",
       "    </tr>\n",
       "    <tr>\n",
       "      <th>mean</th>\n",
       "      <td>505838.655738</td>\n",
       "    </tr>\n",
       "    <tr>\n",
       "      <th>std</th>\n",
       "      <td>182576.143235</td>\n",
       "    </tr>\n",
       "    <tr>\n",
       "      <th>min</th>\n",
       "      <td>110001.000000</td>\n",
       "    </tr>\n",
       "    <tr>\n",
       "      <th>25%</th>\n",
       "      <td>400001.000000</td>\n",
       "    </tr>\n",
       "    <tr>\n",
       "      <th>50%</th>\n",
       "      <td>524225.000000</td>\n",
       "    </tr>\n",
       "    <tr>\n",
       "      <th>75%</th>\n",
       "      <td>641006.000000</td>\n",
       "    </tr>\n",
       "    <tr>\n",
       "      <th>max</th>\n",
       "      <td>834001.000000</td>\n",
       "    </tr>\n",
       "  </tbody>\n",
       "</table>\n",
       "</div>"
      ],
      "text/plain": [
       "         Postal_Code\n",
       "count      61.000000\n",
       "mean   505838.655738\n",
       "std    182576.143235\n",
       "min    110001.000000\n",
       "25%    400001.000000\n",
       "50%    524225.000000\n",
       "75%    641006.000000\n",
       "max    834001.000000"
      ]
     },
     "execution_count": 143,
     "metadata": {},
     "output_type": "execute_result"
    }
   ],
   "source": [
    "postal_code.describe()"
   ]
  },
  {
   "cell_type": "code",
   "execution_count": 145,
   "id": "20fffb65-c5ad-4b84-ade0-1f4524306a67",
   "metadata": {},
   "outputs": [
    {
     "data": {
      "text/plain": [
       "Postal_Code    0\n",
       "City_Code      0\n",
       "dtype: int64"
      ]
     },
     "execution_count": 145,
     "metadata": {},
     "output_type": "execute_result"
    }
   ],
   "source": [
    "postal_code.isnull().sum()"
   ]
  },
  {
   "cell_type": "code",
   "execution_count": 147,
   "id": "3f50fc7c-5675-4317-80fd-2a104baa8982",
   "metadata": {},
   "outputs": [
    {
     "data": {
      "text/plain": [
       "0"
      ]
     },
     "execution_count": 147,
     "metadata": {},
     "output_type": "execute_result"
    }
   ],
   "source": [
    "postal_code.duplicated().sum()"
   ]
  },
  {
   "cell_type": "markdown",
   "id": "46857871-5b1b-406a-a1b7-feb9878d3e47",
   "metadata": {},
   "source": [
    "### Region master"
   ]
  },
  {
   "cell_type": "code",
   "execution_count": null,
   "id": "c1112e13-cdd6-410c-a90b-efca045c68b1",
   "metadata": {},
   "outputs": [],
   "source": []
  },
  {
   "cell_type": "code",
   "execution_count": 151,
   "id": "6bdcd8ce-7db3-4a69-9fbe-ae59d706e22a",
   "metadata": {},
   "outputs": [],
   "source": [
    "region_master=pd.read_excel(r\"C:\\Users\\saurabh.kumar\\Downloads\\mindful-ai-datasets-main\\mindful-ai-datasets-main\\used-cars-data\\Region_Master.xlsx\")"
   ]
  },
  {
   "cell_type": "code",
   "execution_count": 153,
   "id": "10e96757-f3e1-45bd-b4ae-686d54b30116",
   "metadata": {},
   "outputs": [
    {
     "data": {
      "text/html": [
       "<div>\n",
       "<style scoped>\n",
       "    .dataframe tbody tr th:only-of-type {\n",
       "        vertical-align: middle;\n",
       "    }\n",
       "\n",
       "    .dataframe tbody tr th {\n",
       "        vertical-align: top;\n",
       "    }\n",
       "\n",
       "    .dataframe thead th {\n",
       "        text-align: right;\n",
       "    }\n",
       "</style>\n",
       "<table border=\"1\" class=\"dataframe\">\n",
       "  <thead>\n",
       "    <tr style=\"text-align: right;\">\n",
       "      <th></th>\n",
       "      <th>Region_Code</th>\n",
       "      <th>Region</th>\n",
       "    </tr>\n",
       "  </thead>\n",
       "  <tbody>\n",
       "    <tr>\n",
       "      <th>0</th>\n",
       "      <td>R1</td>\n",
       "      <td>Central</td>\n",
       "    </tr>\n",
       "    <tr>\n",
       "      <th>1</th>\n",
       "      <td>R2</td>\n",
       "      <td>East</td>\n",
       "    </tr>\n",
       "    <tr>\n",
       "      <th>2</th>\n",
       "      <td>R3</td>\n",
       "      <td>West</td>\n",
       "    </tr>\n",
       "    <tr>\n",
       "      <th>3</th>\n",
       "      <td>R4</td>\n",
       "      <td>South</td>\n",
       "    </tr>\n",
       "    <tr>\n",
       "      <th>4</th>\n",
       "      <td>R5</td>\n",
       "      <td>North</td>\n",
       "    </tr>\n",
       "    <tr>\n",
       "      <th>5</th>\n",
       "      <td>R6</td>\n",
       "      <td>North East</td>\n",
       "    </tr>\n",
       "  </tbody>\n",
       "</table>\n",
       "</div>"
      ],
      "text/plain": [
       "  Region_Code      Region\n",
       "0          R1     Central\n",
       "1          R2        East\n",
       "2          R3        West\n",
       "3          R4       South\n",
       "4          R5       North\n",
       "5          R6  North East"
      ]
     },
     "execution_count": 153,
     "metadata": {},
     "output_type": "execute_result"
    }
   ],
   "source": [
    "region_master"
   ]
  },
  {
   "cell_type": "code",
   "execution_count": 155,
   "id": "800fb31e-00ac-40df-9320-4b91da05ce13",
   "metadata": {},
   "outputs": [
    {
     "data": {
      "text/plain": [
       "Region_Code    0\n",
       "Region         0\n",
       "dtype: int64"
      ]
     },
     "execution_count": 155,
     "metadata": {},
     "output_type": "execute_result"
    }
   ],
   "source": [
    "region_master.isnull().sum()"
   ]
  },
  {
   "cell_type": "code",
   "execution_count": 157,
   "id": "fbea77ba-02a9-4787-9afa-7b16cb32c339",
   "metadata": {},
   "outputs": [
    {
     "data": {
      "text/plain": [
       "0"
      ]
     },
     "execution_count": 157,
     "metadata": {},
     "output_type": "execute_result"
    }
   ],
   "source": [
    "region_master.duplicated().sum()"
   ]
  },
  {
   "cell_type": "markdown",
   "id": "34b2ae5c-5644-4845-aeb7-726b0dc8d9b2",
   "metadata": {},
   "source": [
    "### state mapping"
   ]
  },
  {
   "cell_type": "code",
   "execution_count": 160,
   "id": "0e76f228-c9bd-4e39-84f9-06b8ea8f5584",
   "metadata": {},
   "outputs": [],
   "source": [
    "state_mapping=pd.read_excel(r\"C:\\Users\\saurabh.kumar\\Downloads\\mindful-ai-datasets-main\\mindful-ai-datasets-main\\used-cars-data\\Region_State_Mapping.xlsx\")"
   ]
  },
  {
   "cell_type": "code",
   "execution_count": 162,
   "id": "1a2f1686-df90-452f-94ca-9913fa0143d9",
   "metadata": {},
   "outputs": [
    {
     "data": {
      "text/html": [
       "<div>\n",
       "<style scoped>\n",
       "    .dataframe tbody tr th:only-of-type {\n",
       "        vertical-align: middle;\n",
       "    }\n",
       "\n",
       "    .dataframe tbody tr th {\n",
       "        vertical-align: top;\n",
       "    }\n",
       "\n",
       "    .dataframe thead th {\n",
       "        text-align: right;\n",
       "    }\n",
       "</style>\n",
       "<table border=\"1\" class=\"dataframe\">\n",
       "  <thead>\n",
       "    <tr style=\"text-align: right;\">\n",
       "      <th></th>\n",
       "      <th>Region_Code</th>\n",
       "      <th>State_Code</th>\n",
       "    </tr>\n",
       "  </thead>\n",
       "  <tbody>\n",
       "    <tr>\n",
       "      <th>0</th>\n",
       "      <td>R4</td>\n",
       "      <td>ST01</td>\n",
       "    </tr>\n",
       "    <tr>\n",
       "      <th>1</th>\n",
       "      <td>R6</td>\n",
       "      <td>ST02</td>\n",
       "    </tr>\n",
       "    <tr>\n",
       "      <th>2</th>\n",
       "      <td>R6</td>\n",
       "      <td>ST03</td>\n",
       "    </tr>\n",
       "    <tr>\n",
       "      <th>3</th>\n",
       "      <td>R2</td>\n",
       "      <td>ST04</td>\n",
       "    </tr>\n",
       "    <tr>\n",
       "      <th>4</th>\n",
       "      <td>R1</td>\n",
       "      <td>ST05</td>\n",
       "    </tr>\n",
       "  </tbody>\n",
       "</table>\n",
       "</div>"
      ],
      "text/plain": [
       "  Region_Code State_Code\n",
       "0          R4       ST01\n",
       "1          R6       ST02\n",
       "2          R6       ST03\n",
       "3          R2       ST04\n",
       "4          R1       ST05"
      ]
     },
     "execution_count": 162,
     "metadata": {},
     "output_type": "execute_result"
    }
   ],
   "source": [
    "state_mapping.head()"
   ]
  },
  {
   "cell_type": "code",
   "execution_count": 164,
   "id": "f1da6307-c9b1-43fb-9410-5f3e00adb023",
   "metadata": {},
   "outputs": [
    {
     "data": {
      "text/html": [
       "<div>\n",
       "<style scoped>\n",
       "    .dataframe tbody tr th:only-of-type {\n",
       "        vertical-align: middle;\n",
       "    }\n",
       "\n",
       "    .dataframe tbody tr th {\n",
       "        vertical-align: top;\n",
       "    }\n",
       "\n",
       "    .dataframe thead th {\n",
       "        text-align: right;\n",
       "    }\n",
       "</style>\n",
       "<table border=\"1\" class=\"dataframe\">\n",
       "  <thead>\n",
       "    <tr style=\"text-align: right;\">\n",
       "      <th></th>\n",
       "      <th>Region_Code</th>\n",
       "      <th>State_Code</th>\n",
       "    </tr>\n",
       "  </thead>\n",
       "  <tbody>\n",
       "    <tr>\n",
       "      <th>count</th>\n",
       "      <td>36</td>\n",
       "      <td>36</td>\n",
       "    </tr>\n",
       "    <tr>\n",
       "      <th>unique</th>\n",
       "      <td>6</td>\n",
       "      <td>36</td>\n",
       "    </tr>\n",
       "    <tr>\n",
       "      <th>top</th>\n",
       "      <td>R4</td>\n",
       "      <td>ST01</td>\n",
       "    </tr>\n",
       "    <tr>\n",
       "      <th>freq</th>\n",
       "      <td>8</td>\n",
       "      <td>1</td>\n",
       "    </tr>\n",
       "  </tbody>\n",
       "</table>\n",
       "</div>"
      ],
      "text/plain": [
       "       Region_Code State_Code\n",
       "count           36         36\n",
       "unique           6         36\n",
       "top             R4       ST01\n",
       "freq             8          1"
      ]
     },
     "execution_count": 164,
     "metadata": {},
     "output_type": "execute_result"
    }
   ],
   "source": [
    "state_mapping.describe()"
   ]
  },
  {
   "cell_type": "code",
   "execution_count": 166,
   "id": "7ae312a9-1741-4b80-aa32-63f06d9178b0",
   "metadata": {},
   "outputs": [
    {
     "data": {
      "text/plain": [
       "Region_Code    0\n",
       "State_Code     0\n",
       "dtype: int64"
      ]
     },
     "execution_count": 166,
     "metadata": {},
     "output_type": "execute_result"
    }
   ],
   "source": [
    "state_mapping.isnull().sum()"
   ]
  },
  {
   "cell_type": "code",
   "execution_count": 168,
   "id": "4e2a70dc-51a4-4d7a-9e65-7191d0736208",
   "metadata": {},
   "outputs": [
    {
     "data": {
      "text/plain": [
       "0"
      ]
     },
     "execution_count": 168,
     "metadata": {},
     "output_type": "execute_result"
    }
   ],
   "source": [
    "state_mapping.duplicated().sum()"
   ]
  },
  {
   "cell_type": "markdown",
   "id": "460b0f84-32e6-4bcd-ac58-725c781b2374",
   "metadata": {},
   "source": [
    "### state master"
   ]
  },
  {
   "cell_type": "code",
   "execution_count": null,
   "id": "500a6bcb-fa57-4af4-8a0f-8db10951731e",
   "metadata": {},
   "outputs": [],
   "source": []
  },
  {
   "cell_type": "code",
   "execution_count": 172,
   "id": "a8fd80a6-4344-4f11-a08b-d476f85bddda",
   "metadata": {},
   "outputs": [],
   "source": [
    "state_master=pd.read_excel(r\"C:\\Users\\saurabh.kumar\\Downloads\\mindful-ai-datasets-main\\mindful-ai-datasets-main\\used-cars-data\\State_Master.xlsx\")"
   ]
  },
  {
   "cell_type": "code",
   "execution_count": 174,
   "id": "9ded26ab-0fb5-4907-9950-3ea6f265f33e",
   "metadata": {},
   "outputs": [
    {
     "data": {
      "text/html": [
       "<div>\n",
       "<style scoped>\n",
       "    .dataframe tbody tr th:only-of-type {\n",
       "        vertical-align: middle;\n",
       "    }\n",
       "\n",
       "    .dataframe tbody tr th {\n",
       "        vertical-align: top;\n",
       "    }\n",
       "\n",
       "    .dataframe thead th {\n",
       "        text-align: right;\n",
       "    }\n",
       "</style>\n",
       "<table border=\"1\" class=\"dataframe\">\n",
       "  <thead>\n",
       "    <tr style=\"text-align: right;\">\n",
       "      <th></th>\n",
       "      <th>State_Code</th>\n",
       "      <th>State_Name</th>\n",
       "    </tr>\n",
       "  </thead>\n",
       "  <tbody>\n",
       "    <tr>\n",
       "      <th>0</th>\n",
       "      <td>ST01</td>\n",
       "      <td>Andhra Pradesh</td>\n",
       "    </tr>\n",
       "    <tr>\n",
       "      <th>1</th>\n",
       "      <td>ST02</td>\n",
       "      <td>Arunachal Pradesh</td>\n",
       "    </tr>\n",
       "    <tr>\n",
       "      <th>2</th>\n",
       "      <td>ST03</td>\n",
       "      <td>Assam</td>\n",
       "    </tr>\n",
       "    <tr>\n",
       "      <th>3</th>\n",
       "      <td>ST04</td>\n",
       "      <td>Bihar</td>\n",
       "    </tr>\n",
       "    <tr>\n",
       "      <th>4</th>\n",
       "      <td>ST05</td>\n",
       "      <td>Chhattisgarh</td>\n",
       "    </tr>\n",
       "  </tbody>\n",
       "</table>\n",
       "</div>"
      ],
      "text/plain": [
       "  State_Code         State_Name\n",
       "0       ST01     Andhra Pradesh\n",
       "1       ST02  Arunachal Pradesh\n",
       "2       ST03              Assam\n",
       "3       ST04              Bihar\n",
       "4       ST05       Chhattisgarh"
      ]
     },
     "execution_count": 174,
     "metadata": {},
     "output_type": "execute_result"
    }
   ],
   "source": [
    "state_master.head()"
   ]
  },
  {
   "cell_type": "code",
   "execution_count": 176,
   "id": "ea2bd95b-303d-4e39-bbea-78ef8e1a9522",
   "metadata": {},
   "outputs": [
    {
     "data": {
      "text/html": [
       "<div>\n",
       "<style scoped>\n",
       "    .dataframe tbody tr th:only-of-type {\n",
       "        vertical-align: middle;\n",
       "    }\n",
       "\n",
       "    .dataframe tbody tr th {\n",
       "        vertical-align: top;\n",
       "    }\n",
       "\n",
       "    .dataframe thead th {\n",
       "        text-align: right;\n",
       "    }\n",
       "</style>\n",
       "<table border=\"1\" class=\"dataframe\">\n",
       "  <thead>\n",
       "    <tr style=\"text-align: right;\">\n",
       "      <th></th>\n",
       "      <th>State_Code</th>\n",
       "      <th>State_Name</th>\n",
       "    </tr>\n",
       "  </thead>\n",
       "  <tbody>\n",
       "    <tr>\n",
       "      <th>count</th>\n",
       "      <td>36</td>\n",
       "      <td>36</td>\n",
       "    </tr>\n",
       "    <tr>\n",
       "      <th>unique</th>\n",
       "      <td>36</td>\n",
       "      <td>36</td>\n",
       "    </tr>\n",
       "    <tr>\n",
       "      <th>top</th>\n",
       "      <td>ST01</td>\n",
       "      <td>Andhra Pradesh</td>\n",
       "    </tr>\n",
       "    <tr>\n",
       "      <th>freq</th>\n",
       "      <td>1</td>\n",
       "      <td>1</td>\n",
       "    </tr>\n",
       "  </tbody>\n",
       "</table>\n",
       "</div>"
      ],
      "text/plain": [
       "       State_Code      State_Name\n",
       "count          36              36\n",
       "unique         36              36\n",
       "top          ST01  Andhra Pradesh\n",
       "freq            1               1"
      ]
     },
     "execution_count": 176,
     "metadata": {},
     "output_type": "execute_result"
    }
   ],
   "source": [
    "state_master.describe()"
   ]
  },
  {
   "cell_type": "code",
   "execution_count": 178,
   "id": "5e4b0d85-ae50-472c-a4d8-7561b2a3cc79",
   "metadata": {},
   "outputs": [
    {
     "data": {
      "text/plain": [
       "State_Code    0\n",
       "State_Name    0\n",
       "dtype: int64"
      ]
     },
     "execution_count": 178,
     "metadata": {},
     "output_type": "execute_result"
    }
   ],
   "source": [
    "state_master.isnull().sum()"
   ]
  },
  {
   "cell_type": "code",
   "execution_count": 180,
   "id": "28354bde-a34e-44c8-ae9e-1d992bcb71aa",
   "metadata": {},
   "outputs": [
    {
     "data": {
      "text/plain": [
       "0"
      ]
     },
     "execution_count": 180,
     "metadata": {},
     "output_type": "execute_result"
    }
   ],
   "source": [
    "state_master.duplicated().sum()"
   ]
  },
  {
   "cell_type": "markdown",
   "id": "aa3c3cc4-54e7-4259-974e-7ca633c90999",
   "metadata": {},
   "source": [
    "\n",
    "### some exploratory analysis\n"
   ]
  },
  {
   "cell_type": "code",
   "execution_count": 217,
   "id": "cb53ff95-d161-4caa-83dd-215605439b6d",
   "metadata": {},
   "outputs": [
    {
     "name": "stdout",
     "output_type": "stream",
     "text": [
      "   Sales_ID                          Name  Year  Selling_Price  km_Driven  \\\n",
      "0         1        Maruti Swift Dzire VDI  2014         450000     145500   \n",
      "1         2  Skoda Rapid 1.5 TDI Ambition  2014         370000     120000   \n",
      "2         3      Honda City 2017-2020 EXi  2006         158000     140000   \n",
      "3         4     Hyundai i20 Sportz Diesel  2010         225000     127000   \n",
      "4         5        Maruti Swift VXI BSIII  2007         130000     120000   \n",
      "\n",
      "  City_Code State_Code  Postal_Code    Fuel Seller_Type  ... Mileage_clean  \\\n",
      "0      CT01       ST15       400001  Diesel  Individual  ...         23.40   \n",
      "1      CT28       ST11       834001  Diesel  Individual  ...         21.14   \n",
      "2      CT12       ST28       201301  Petrol  Individual  ...         17.70   \n",
      "3      CT21       ST27       248001  Diesel  Individual  ...         23.00   \n",
      "4      CT03       ST24       600020  Petrol  Individual  ...         16.10   \n",
      "\n",
      "  Region_Code   Region City_Code_x State_Code_x  Sold  City_Name State_Code_y  \\\n",
      "0          R3     West        CT01         ST15     Y     Mumbai         ST15   \n",
      "1          R2     East        CT28         ST11     Y     Ranchi         ST11   \n",
      "2          R1  Central        CT12         ST28     Y      Noida         ST28   \n",
      "3          R1  Central        CT21         ST27     Y   Dehradun         ST27   \n",
      "4          R4    South        CT03         ST24     Y    Chennai         ST24   \n",
      "\n",
      "  City_Code_y     State_Name  \n",
      "0        CT01    Maharashtra  \n",
      "1        CT28      Jharkhand  \n",
      "2        CT12  Uttar Pradesh  \n",
      "3        CT21    Uttarakhand  \n",
      "4        CT03     Tamil Nadu  \n",
      "\n",
      "[5 rows x 26 columns]\n"
     ]
    }
   ],
   "source": [
    "data = pd.merge(car_sales, sales_status, on='Sales_ID', how='left')\n",
    "\n",
    "# # Merge data with city_master on City_Code\n",
    "data = pd.merge(data, city_master, on='City_Code', how='left')\n",
    "\n",
    "# # Merge data with postal_code on Postal_Code\n",
    "data = pd.merge(data, postal_code, on='Postal_Code', how='left')\n",
    "\n",
    "\n",
    "\n",
    "# Merge data with state_mapping on State_Code\n",
    "data1 = pd.merge(car_sales, state_mapping, on='State_Code', how='left')\n",
    "\n",
    "# Merge data with state_master on State_Code\n",
    "data2 = pd.merge(car_sales, state_master, on='State_Code', how='left')\n",
    "\n",
    "# Merge data with region_master on Region_Code\n",
    "data3 = pd.merge(data1, region_master, on='Region_Code', how='left')\n",
    "data4 = pd.merge(data3, data, how='left')\n",
    "data4= pd.merge(data4, data2, how='left')\n",
    "\n",
    "# Display the first few rows of the merged dataframe\n",
    "print(data4.head())"
   ]
  },
  {
   "cell_type": "code",
   "execution_count": null,
   "id": "2869428f-e991-4184-a796-fd26cbad0333",
   "metadata": {},
   "outputs": [],
   "source": [
    "\n",
    "\n"
   ]
  },
  {
   "cell_type": "code",
   "execution_count": null,
   "id": "28789e9f-fa00-48cf-bf58-e5508cad8d88",
   "metadata": {},
   "outputs": [],
   "source": []
  }
 ],
 "metadata": {
  "kernelspec": {
   "display_name": "Python 3 (ipykernel)",
   "language": "python",
   "name": "python3"
  },
  "language_info": {
   "codemirror_mode": {
    "name": "ipython",
    "version": 3
   },
   "file_extension": ".py",
   "mimetype": "text/x-python",
   "name": "python",
   "nbconvert_exporter": "python",
   "pygments_lexer": "ipython3",
   "version": "3.11.7"
  }
 },
 "nbformat": 4,
 "nbformat_minor": 5
}
